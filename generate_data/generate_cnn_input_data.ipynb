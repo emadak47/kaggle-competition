{
 "cells": [
  {
   "cell_type": "code",
   "execution_count": 1,
   "metadata": {
    "id": "2G_pYG14FkQI"
   },
   "outputs": [],
   "source": [
    "import pandas as pd\n",
    "import numpy as np"
   ]
  },
  {
   "cell_type": "code",
   "execution_count": 2,
   "metadata": {},
   "outputs": [],
   "source": [
    "from tqdm import tqdm\n",
    "\n",
    "def interp_data(input_csv):\n",
    "    data = pd.read_csv(input_csv, index_col=[0], header=[0, 1, 2])\n",
    "    results = []\n",
    "    \n",
    "    for col in tqdm(data.columns.get_level_values(0).unique()):\n",
    "        # Interpolate means\n",
    "        col_data = data.loc[:, (col, 'mask')] \\\n",
    "                                        .replace({0: np.nan}) \\\n",
    "                                        .multiply(data.loc[:, (col, 'mean')]) \\\n",
    "                                        .interpolate(axis=1, limit_area='inside') \\\n",
    "                                        .fillna(method='ffill', axis=1) \\\n",
    "                                        .fillna(method='bfill', axis=1) \\\n",
    "                                        .fillna(data.loc[:, (col, 'mean')])\n",
    "        col_data.columns = [f'{col};mean;{i}' for i in range(24)]\n",
    "        \n",
    "        # Add mask data\n",
    "        mask_data = data.loc[:, (col, 'mask')]\n",
    "        mask_data.columns = [f'{col};mask;{i}' for i in range(24)]\n",
    "        \n",
    "        results.append(col_data)\n",
    "        results.append(mask_data)\n",
    "        \n",
    "    return np.asarray(pd.concat(results, axis=1)).reshape((data.shape[0], -1, 24))"
   ]
  },
  {
   "cell_type": "code",
   "execution_count": 3,
   "metadata": {},
   "outputs": [
    {
     "name": "stderr",
     "output_type": "stream",
     "text": [
      "100%|█████████████████████████████████████████████████████████████████████████████████| 104/104 [00:45<00:00,  2.27it/s]\n",
      "100%|█████████████████████████████████████████████████████████████████████████████████| 104/104 [00:05<00:00, 20.14it/s]\n",
      "100%|█████████████████████████████████████████████████████████████████████████████████| 104/104 [00:10<00:00,  9.61it/s]\n"
     ]
    }
   ],
   "source": [
    "full_train_data_ordered = interp_data('X_train.csv')\n",
    "np.save('full_train_data_ordered.npy', full_train_data_ordered)\n",
    "\n",
    "full_valid_data_ordered = interp_data('X_valid.csv')\n",
    "np.save('full_valid_data_ordered.npy', full_valid_data_ordered)\n",
    "\n",
    "full_test_data_ordered = interp_data('X_test.csv')\n",
    "np.save('full_test_data_ordered.npy', full_test_data_ordered)"
   ]
  },
  {
   "cell_type": "code",
   "execution_count": null,
   "metadata": {},
   "outputs": [],
   "source": []
  }
 ],
 "metadata": {
  "colab": {
   "provenance": []
  },
  "kernelspec": {
   "display_name": "Python 3 (ipykernel)",
   "language": "python",
   "name": "python3"
  },
  "language_info": {
   "codemirror_mode": {
    "name": "ipython",
    "version": 3
   },
   "file_extension": ".py",
   "mimetype": "text/x-python",
   "name": "python",
   "nbconvert_exporter": "python",
   "pygments_lexer": "ipython3",
   "version": "3.8.13"
  }
 },
 "nbformat": 4,
 "nbformat_minor": 4
}
