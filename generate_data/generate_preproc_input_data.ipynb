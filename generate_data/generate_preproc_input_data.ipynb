{
 "cells": [
  {
   "cell_type": "code",
   "execution_count": 4,
   "id": "01224aa5",
   "metadata": {},
   "outputs": [],
   "source": [
    "import pandas as pd\n",
    "import numpy as np\n",
    "from tqdm import tqdm"
   ]
  },
  {
   "cell_type": "code",
   "execution_count": 5,
   "id": "27320e94",
   "metadata": {},
   "outputs": [],
   "source": [
    "def preproc_input_data(input_csv):\n",
    "    data = pd.read_csv('X_train.csv', header=[0,1,2], index_col=0).drop(\n",
    "        columns=['albumin ascites', 'albumin urine', 'creatinine ascites', 'creatinine body fluid', 'creatinine pleural', 'lymphocytes atypical csl', 'lymphocytes percent', 'lymphocytes pleural']\n",
    "    )\n",
    "    means = []\n",
    "    changes = []\n",
    "    counts = []\n",
    "    \n",
    "    mean_cols = []\n",
    "    change_cols = []\n",
    "    count_cols = []\n",
    "    \n",
    "    for col in tqdm(data.columns.get_level_values(0).unique()):\n",
    "        # Interpolate mean values from closest cells with mask = 1\n",
    "        # Forward fill and back fill remaining nulls\n",
    "        buffer_df = data.loc[:, (col, 'mask')] \\\n",
    "                                        .replace({0: np.nan}) \\\n",
    "                                        .multiply(data.loc[:, (col, 'mean')]) \\\n",
    "                                        .interpolate(axis=1, limit_area='inside') \\\n",
    "                                        .fillna(method='ffill', axis=1) \\\n",
    "                                        .fillna(method='bfill', axis=1) \\\n",
    "                                        .fillna(data.loc[:, (col, 'mean')])\n",
    "        \n",
    "        # Calculate mean, change, count\n",
    "        means.append(buffer_df.mean(axis=1))\n",
    "        changes.append((buffer_df.iloc[:, -1] - buffer_df.iloc[:, 0]).divide(buffer_df.iloc[:, 0]))\n",
    "        counts.append(data.loc[:, (col, 'mask')].sum(axis=1))\n",
    "        \n",
    "        mean_cols.append(col + ';mean')\n",
    "        change_cols.append(col + ';change')\n",
    "        count_cols.append(col + ';count')\n",
    "\n",
    "    cleaned_data = pd.concat(means + changes + counts, axis=1)\n",
    "    cleaned_data.columns = mean_cols + change_cols + count_cols\n",
    "    cleaned_data.index = data.index\n",
    "    \n",
    "    return cleaned_data"
   ]
  },
  {
   "cell_type": "code",
   "execution_count": 6,
   "id": "6eb68dd5",
   "metadata": {},
   "outputs": [
    {
     "name": "stderr",
     "output_type": "stream",
     "text": [
      "100%|███████████████████████████████████████████████████████████████████████████████████| 96/96 [00:52<00:00,  1.81it/s]\n"
     ]
    }
   ],
   "source": [
    "clean_train_data = preproc_input_data('X_train.csv')"
   ]
  },
  {
   "cell_type": "code",
   "execution_count": 8,
   "id": "71d5ed65",
   "metadata": {},
   "outputs": [],
   "source": [
    "clean_train_data.to_csv('X_train_cc.csv') "
   ]
  },
  {
   "cell_type": "code",
   "execution_count": 9,
   "id": "354ed013",
   "metadata": {},
   "outputs": [
    {
     "name": "stderr",
     "output_type": "stream",
     "text": [
      "100%|███████████████████████████████████████████████████████████████████████████████████| 96/96 [00:45<00:00,  2.10it/s]\n"
     ]
    }
   ],
   "source": [
    "clean_valid_data = preproc_input_data('X_valid.csv')\n",
    "clean_valid_data.to_csv('X_valid_cc.csv') "
   ]
  },
  {
   "cell_type": "code",
   "execution_count": 10,
   "id": "b226a29d",
   "metadata": {},
   "outputs": [
    {
     "name": "stderr",
     "output_type": "stream",
     "text": [
      "100%|███████████████████████████████████████████████████████████████████████████████████| 96/96 [00:43<00:00,  2.20it/s]\n"
     ]
    }
   ],
   "source": [
    "clean_test_data = preproc_input_data('X_test.csv')\n",
    "clean_test_data.to_csv('X_test_cc.csv') "
   ]
  },
  {
   "cell_type": "code",
   "execution_count": null,
   "id": "d36a24a0",
   "metadata": {},
   "outputs": [],
   "source": []
  }
 ],
 "metadata": {
  "kernelspec": {
   "display_name": "Python 3 (ipykernel)",
   "language": "python",
   "name": "python3"
  },
  "language_info": {
   "codemirror_mode": {
    "name": "ipython",
    "version": 3
   },
   "file_extension": ".py",
   "mimetype": "text/x-python",
   "name": "python",
   "nbconvert_exporter": "python",
   "pygments_lexer": "ipython3",
   "version": "3.8.13"
  }
 },
 "nbformat": 4,
 "nbformat_minor": 5
}
