{
 "cells": [
  {
   "cell_type": "code",
   "execution_count": 31,
   "metadata": {},
   "outputs": [],
   "source": [
    "import scipy.stats as ss, pandas as pd, numpy as np\n",
    "\n",
    "from xgboost import XGBRegressor\n",
    "from sklearn.model_selection import GridSearchCV\n",
    "from sklearn.metrics import mean_squared_error\n",
    "from sklearn.model_selection import train_test_split"
   ]
  },
  {
   "cell_type": "code",
   "execution_count": 24,
   "metadata": {},
   "outputs": [],
   "source": [
    "y_train = pd.read_csv('Y_train.csv', index_col=0)\n",
    "y_valid = pd.read_csv('Y_valid.csv', index_col=0)\n",
    "y = np.asarray(pd.concat([y_train, y_valid])).flatten()\n",
    "\n",
    "x_train = pd.read_csv('X_train_cc.csv', index_col=0)\n",
    "x_valid = pd.read_csv('X_valid_cc.csv', index_col=0)\n",
    "X = pd.concat([x_train, x_valid])\n",
    "\n",
    "X_train, X_test, y_train, y_test = train_test_split(X, y, test_size=0.1)"
   ]
  },
  {
   "cell_type": "code",
   "execution_count": 28,
   "metadata": {},
   "outputs": [
    {
     "name": "stdout",
     "output_type": "stream",
     "text": [
      "Fitting 2 folds for each of 8 candidates, totalling 16 fits\n",
      "0.1905487342630326\n"
     ]
    }
   ],
   "source": [
    "xgb1 = XGBRegressor()\n",
    "parameters = {'nthread':[4],\n",
    "              'objective':['reg:squarederror'],\n",
    "              'learning_rate': [0.01, 0.1],\n",
    "              'max_depth': [5, 10],\n",
    "              'min_child_weight': [4, 6],\n",
    "              'subsample': [0.7],\n",
    "              'colsample_bytree': [0.7],\n",
    "              'n_estimators': [500]}\n",
    "\n",
    "xgb_grid = GridSearchCV(xgb1, parameters, cv = 2, n_jobs = 5, verbose=True)\n",
    "xgb_grid.fit(X_train, y_train)\n",
    "print(xgb_grid.best_score_)"
   ]
  },
  {
   "cell_type": "code",
   "execution_count": 29,
   "metadata": {},
   "outputs": [],
   "source": [
    "xgb2 = XGBRegressor(**xgb_grid.best_params_)\n",
    "xgb2.fit(X_train, y_train)\n",
    "predictions = xgb2.predict(X_test)"
   ]
  },
  {
   "cell_type": "code",
   "execution_count": 37,
   "metadata": {},
   "outputs": [
    {
     "name": "stdout",
     "output_type": "stream",
     "text": [
      "============== score:  0.18715 ==============\n",
      "============== MSE:    3.13015 ==============\n"
     ]
    },
    {
     "data": {
      "text/html": [
       "<div>\n",
       "<style scoped>\n",
       "    .dataframe tbody tr th:only-of-type {\n",
       "        vertical-align: middle;\n",
       "    }\n",
       "\n",
       "    .dataframe tbody tr th {\n",
       "        vertical-align: top;\n",
       "    }\n",
       "\n",
       "    .dataframe thead th {\n",
       "        text-align: right;\n",
       "    }\n",
       "</style>\n",
       "<table border=\"1\" class=\"dataframe\">\n",
       "  <thead>\n",
       "    <tr style=\"text-align: right;\">\n",
       "      <th></th>\n",
       "      <th>Predicted</th>\n",
       "    </tr>\n",
       "    <tr>\n",
       "      <th>Id</th>\n",
       "      <th></th>\n",
       "    </tr>\n",
       "  </thead>\n",
       "  <tbody>\n",
       "    <tr>\n",
       "      <th>12732_142290_292064</th>\n",
       "      <td>4.054928</td>\n",
       "    </tr>\n",
       "    <tr>\n",
       "      <th>4273_158748_243237</th>\n",
       "      <td>3.431731</td>\n",
       "    </tr>\n",
       "    <tr>\n",
       "      <th>24979_108776_280967</th>\n",
       "      <td>4.216048</td>\n",
       "    </tr>\n",
       "    <tr>\n",
       "      <th>17276_165268_217606</th>\n",
       "      <td>2.726931</td>\n",
       "    </tr>\n",
       "    <tr>\n",
       "      <th>24235_155616_203101</th>\n",
       "      <td>2.590534</td>\n",
       "    </tr>\n",
       "    <tr>\n",
       "      <th>...</th>\n",
       "      <td>...</td>\n",
       "    </tr>\n",
       "    <tr>\n",
       "      <th>25662_198249_241244</th>\n",
       "      <td>3.227424</td>\n",
       "    </tr>\n",
       "    <tr>\n",
       "      <th>47667_140010_273449</th>\n",
       "      <td>2.517060</td>\n",
       "    </tr>\n",
       "    <tr>\n",
       "      <th>32605_157470_217181</th>\n",
       "      <td>5.513839</td>\n",
       "    </tr>\n",
       "    <tr>\n",
       "      <th>45689_175123_255149</th>\n",
       "      <td>2.623719</td>\n",
       "    </tr>\n",
       "    <tr>\n",
       "      <th>47380_176418_202906</th>\n",
       "      <td>3.007269</td>\n",
       "    </tr>\n",
       "  </tbody>\n",
       "</table>\n",
       "<p>1916 rows × 1 columns</p>\n",
       "</div>"
      ],
      "text/plain": [
       "                     Predicted\n",
       "Id                            \n",
       "12732_142290_292064   4.054928\n",
       "4273_158748_243237    3.431731\n",
       "24979_108776_280967   4.216048\n",
       "17276_165268_217606   2.726931\n",
       "24235_155616_203101   2.590534\n",
       "...                        ...\n",
       "25662_198249_241244   3.227424\n",
       "47667_140010_273449   2.517060\n",
       "32605_157470_217181   5.513839\n",
       "45689_175123_255149   2.623719\n",
       "47380_176418_202906   3.007269\n",
       "\n",
       "[1916 rows x 1 columns]"
      ]
     },
     "execution_count": 37,
     "metadata": {},
     "output_type": "execute_result"
    }
   ],
   "source": [
    "print(\"============== score: \", np.round(xgb2.score(X_test, y_test), 5), \"==============\")\n",
    "print(\"============== MSE:   \", np.round(mean_squared_error(y_test, xgb2.predict(X_test)), 5), \"==============\")\n",
    "\n",
    "pd.DataFrame({'Id': X_test.index, 'Predicted': predictions}).set_index('Id')\n"
   ]
  }
 ],
 "metadata": {
  "kernelspec": {
   "display_name": "Python 3.9.6 64-bit",
   "language": "python",
   "name": "python3"
  },
  "language_info": {
   "codemirror_mode": {
    "name": "ipython",
    "version": 3
   },
   "file_extension": ".py",
   "mimetype": "text/x-python",
   "name": "python",
   "nbconvert_exporter": "python",
   "pygments_lexer": "ipython3",
   "version": "3.9.6"
  },
  "orig_nbformat": 4,
  "vscode": {
   "interpreter": {
    "hash": "aee8b7b246df8f9039afb4144a1f6fd8d2ca17a180786b69acc140d282b71a49"
   }
  }
 },
 "nbformat": 4,
 "nbformat_minor": 2
}
