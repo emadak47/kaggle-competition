{
 "cells": [
  {
   "cell_type": "code",
   "execution_count": 1,
   "metadata": {},
   "outputs": [],
   "source": [
    "import scipy.stats as ss, pandas as pd, numpy as np\n",
    "\n",
    "from sklearn.linear_model import LogisticRegression\n",
    "from sklearn.impute import SimpleImputer\n",
    "from sklearn.preprocessing import StandardScaler\n",
    "from sklearn.pipeline import make_pipeline\n",
    "from sklearn.model_selection import train_test_split\n",
    "from sklearn.metrics import roc_auc_score, precision_score, f1_score, recall_score, accuracy_score"
   ]
  },
  {
   "cell_type": "code",
   "execution_count": 2,
   "metadata": {},
   "outputs": [],
   "source": [
    "N = 15\n",
    "SEED = 1\n",
    "\n",
    "class DictDist():\n",
    "    def __init__(self, dict_of_rvs): self.dict_of_rvs = dict_of_rvs\n",
    "    def rvs(self, n):\n",
    "        a = {k: v.rvs(n) for k, v in self.dict_of_rvs.items()}\n",
    "        out = []\n",
    "        for i in range(n): out.append({k: vs[i] for k, vs in a.items()})\n",
    "        return out\n",
    "    \n",
    "class Choice():\n",
    "    def __init__(self, options): self.options = options\n",
    "    def rvs(self, n): return [self.options[i] for i in ss.randint(0, len(self.options)).rvs(n)]"
   ]
  },
  {
   "cell_type": "code",
   "execution_count": 3,
   "metadata": {},
   "outputs": [],
   "source": [
    "y_train = pd.read_csv('Y_train.csv', index_col=0)\n",
    "y_valid = pd.read_csv('Y_valid.csv', index_col=0)\n",
    "y = np.asarray(pd.concat([y_train, y_valid])).flatten()\n",
    "\n",
    "X_test = pd.read_csv('X_test_cc.csv', index_col=0)\n",
    "x_train = pd.read_csv('X_train_cc.csv', index_col=0)\n",
    "x_valid = pd.read_csv('X_valid_cc.csv', index_col=0)\n",
    "X = pd.concat([x_train, x_valid])\n",
    "\n",
    "X_train, X_valid, y_train, y_valid = train_test_split(X, y, test_size=0.1)"
   ]
  },
  {
   "cell_type": "code",
   "execution_count": 4,
   "metadata": {},
   "outputs": [],
   "source": [
    "LR_dist = DictDist({\n",
    "    'C': Choice(np.geomspace(1e-3, 1e3, 10000)),\n",
    "    'penalty': Choice(['l1', 'l2']),\n",
    "    'solver': Choice(['lbfgs', 'saga']),\n",
    "    'max_iter': Choice([500])\n",
    "})\n",
    "np.random.seed(SEED)\n",
    "LR_hyperparams_list = LR_dist.rvs(N)\n",
    "for i in range(N):\n",
    "    if LR_hyperparams_list[i]['solver'] == 'lbfgs': LR_hyperparams_list[i]['penalty'] = 'l2'"
   ]
  },
  {
   "cell_type": "code",
   "execution_count": 25,
   "metadata": {},
   "outputs": [],
   "source": [
    "def metrics(y_true, y_pred):\n",
    "    metrics = {}\n",
    "    for metric in [precision_score, recall_score, f1_score, accuracy_score]:\n",
    "        metrics[f\"{metric.__name__}\"] = metric(y_true, y_pred)\n",
    "    \n",
    "    return metrics\n",
    "\n",
    "\n",
    "def run_basic(model, hyperparams_list, X_train, X_valid):\n",
    "    best_s, best_hyperparams = -np.Inf, None\n",
    "    for i, hyperparams in enumerate(hyperparams_list):\n",
    "        print(\"On sample %d / %d (hyperparams = %s)\" % (i+1, len(hyperparams_list), repr((hyperparams))))\n",
    "        pipeline = make_pipeline(SimpleImputer(), StandardScaler(), model(**hyperparams))\n",
    "        pipeline.fit(X_train, y_train)\n",
    "\n",
    "        s = roc_auc_score(y_valid, pipeline.predict_proba(X_valid)[:, 1])\n",
    "        if s > best_s:\n",
    "            best_s, best_hyperparams = s, hyperparams\n",
    "            print(\"New Best Score: %.2f @ hyperparams = %s\" % (100*best_s, repr((best_hyperparams))))\n",
    "\n",
    "    return run_only_final(model, best_hyperparams, X_train, X_valid, y_train, y_valid)\n",
    "\n",
    "\n",
    "def run_only_final(model, best_hyperparams, X_train, X_valid, y_train, y_valid):\n",
    "    pipeline = make_pipeline(SimpleImputer(), StandardScaler(), model(**best_hyperparams))\n",
    "    pipeline.fit(pd.concat((X_train, X_valid)), np.concatenate((y_train, y_valid)))\n",
    "    \n",
    "    res = metrics(np.concatenate((y_train, y_valid)), pipeline.predict(pd.concat([X_train, X_valid])))\n",
    "    res[\"roc_auc_score\"] = roc_auc_score(\n",
    "        np.concatenate((y_train, y_valid)), \n",
    "        pipeline.predict_proba(pd.concat([X_train, X_valid]))[:, 1])\n",
    "\n",
    "    y_score = pipeline.predict_proba(X_test)[:, 1]\n",
    "    y_pred  = pipeline.predict(X_test)\n",
    "    \n",
    "    return y_score, y_pred, res"
   ]
  },
  {
   "cell_type": "code",
   "execution_count": 27,
   "metadata": {},
   "outputs": [
    {
     "name": "stdout",
     "output_type": "stream",
     "text": [
      "On sample 1 / 15 (hyperparams = {'C': 0.001383611303681924, 'penalty': 'l2', 'solver': 'lbfgs', 'max_iter': 500})\n",
      "New Best Score: 89.61 @ hyperparams = {'C': 0.001383611303681924, 'penalty': 'l2', 'solver': 'lbfgs', 'max_iter': 500}\n",
      "On sample 2 / 15 (hyperparams = {'C': 1.3047026700306064, 'penalty': 'l1', 'solver': 'saga', 'max_iter': 500})\n"
     ]
    },
    {
     "name": "stderr",
     "output_type": "stream",
     "text": [
      "/Library/Frameworks/Python.framework/Versions/3.9/lib/python3.9/site-packages/sklearn/linear_model/_sag.py:350: ConvergenceWarning: The max_iter was reached which means the coef_ did not converge\n",
      "  warnings.warn(\n"
     ]
    },
    {
     "name": "stdout",
     "output_type": "stream",
     "text": [
      "On sample 3 / 15 (hyperparams = {'C': 0.003491839757169992, 'penalty': 'l1', 'solver': 'saga', 'max_iter': 500})\n"
     ]
    },
    {
     "name": "stderr",
     "output_type": "stream",
     "text": [
      "/Library/Frameworks/Python.framework/Versions/3.9/lib/python3.9/site-packages/sklearn/linear_model/_sag.py:350: ConvergenceWarning: The max_iter was reached which means the coef_ did not converge\n",
      "  warnings.warn(\n"
     ]
    },
    {
     "name": "stdout",
     "output_type": "stream",
     "text": [
      "On sample 4 / 15 (hyperparams = {'C': 48.783036208459954, 'penalty': 'l1', 'solver': 'saga', 'max_iter': 500})\n"
     ]
    },
    {
     "name": "stderr",
     "output_type": "stream",
     "text": [
      "/Library/Frameworks/Python.framework/Versions/3.9/lib/python3.9/site-packages/sklearn/linear_model/_sag.py:350: ConvergenceWarning: The max_iter was reached which means the coef_ did not converge\n",
      "  warnings.warn(\n"
     ]
    },
    {
     "name": "stdout",
     "output_type": "stream",
     "text": [
      "On sample 5 / 15 (hyperparams = {'C': 0.05459762073728651, 'penalty': 'l2', 'solver': 'saga', 'max_iter': 500})\n"
     ]
    },
    {
     "name": "stderr",
     "output_type": "stream",
     "text": [
      "/Library/Frameworks/Python.framework/Versions/3.9/lib/python3.9/site-packages/sklearn/linear_model/_sag.py:350: ConvergenceWarning: The max_iter was reached which means the coef_ did not converge\n",
      "  warnings.warn(\n"
     ]
    },
    {
     "name": "stdout",
     "output_type": "stream",
     "text": [
      "On sample 6 / 15 (hyperparams = {'C': 1.081193410945589, 'penalty': 'l1', 'solver': 'saga', 'max_iter': 500})\n"
     ]
    },
    {
     "name": "stderr",
     "output_type": "stream",
     "text": [
      "/Library/Frameworks/Python.framework/Versions/3.9/lib/python3.9/site-packages/sklearn/linear_model/_sag.py:350: ConvergenceWarning: The max_iter was reached which means the coef_ did not converge\n",
      "  warnings.warn(\n"
     ]
    },
    {
     "name": "stdout",
     "output_type": "stream",
     "text": [
      "On sample 7 / 15 (hyperparams = {'C': 0.0012201371230349724, 'penalty': 'l1', 'solver': 'saga', 'max_iter': 500})\n",
      "On sample 8 / 15 (hyperparams = {'C': 0.3429679403524682, 'penalty': 'l2', 'solver': 'lbfgs', 'max_iter': 500})\n",
      "On sample 9 / 15 (hyperparams = {'C': 44.77804273778909, 'penalty': 'l2', 'solver': 'saga', 'max_iter': 500})\n"
     ]
    },
    {
     "name": "stderr",
     "output_type": "stream",
     "text": [
      "/Library/Frameworks/Python.framework/Versions/3.9/lib/python3.9/site-packages/sklearn/linear_model/_sag.py:350: ConvergenceWarning: The max_iter was reached which means the coef_ did not converge\n",
      "  warnings.warn(\n"
     ]
    },
    {
     "name": "stdout",
     "output_type": "stream",
     "text": [
      "On sample 10 / 15 (hyperparams = {'C': 0.11951096159304532, 'penalty': 'l2', 'solver': 'saga', 'max_iter': 500})\n"
     ]
    },
    {
     "name": "stderr",
     "output_type": "stream",
     "text": [
      "/Library/Frameworks/Python.framework/Versions/3.9/lib/python3.9/site-packages/sklearn/linear_model/_sag.py:350: ConvergenceWarning: The max_iter was reached which means the coef_ did not converge\n",
      "  warnings.warn(\n"
     ]
    },
    {
     "name": "stdout",
     "output_type": "stream",
     "text": [
      "On sample 11 / 15 (hyperparams = {'C': 433.47464177487655, 'penalty': 'l2', 'solver': 'lbfgs', 'max_iter': 500})\n"
     ]
    },
    {
     "name": "stderr",
     "output_type": "stream",
     "text": [
      "/Library/Frameworks/Python.framework/Versions/3.9/lib/python3.9/site-packages/sklearn/linear_model/_logistic.py:444: ConvergenceWarning: lbfgs failed to converge (status=1):\n",
      "STOP: TOTAL NO. of ITERATIONS REACHED LIMIT.\n",
      "\n",
      "Increase the number of iterations (max_iter) or scale the data as shown in:\n",
      "    https://scikit-learn.org/stable/modules/preprocessing.html\n",
      "Please also refer to the documentation for alternative solver options:\n",
      "    https://scikit-learn.org/stable/modules/linear_model.html#logistic-regression\n",
      "  n_iter_i = _check_optimize_result(\n"
     ]
    },
    {
     "name": "stdout",
     "output_type": "stream",
     "text": [
      "On sample 12 / 15 (hyperparams = {'C': 1.7295128471299193, 'penalty': 'l2', 'solver': 'lbfgs', 'max_iter': 500})\n",
      "On sample 13 / 15 (hyperparams = {'C': 1.6777315525707752, 'penalty': 'l2', 'solver': 'saga', 'max_iter': 500})\n"
     ]
    },
    {
     "name": "stderr",
     "output_type": "stream",
     "text": [
      "/Library/Frameworks/Python.framework/Versions/3.9/lib/python3.9/site-packages/sklearn/linear_model/_sag.py:350: ConvergenceWarning: The max_iter was reached which means the coef_ did not converge\n",
      "  warnings.warn(\n"
     ]
    },
    {
     "name": "stdout",
     "output_type": "stream",
     "text": [
      "On sample 14 / 15 (hyperparams = {'C': 0.059893230394471704, 'penalty': 'l2', 'solver': 'lbfgs', 'max_iter': 500})\n",
      "On sample 15 / 15 (hyperparams = {'C': 0.032340816118081595, 'penalty': 'l2', 'solver': 'lbfgs', 'max_iter': 500})\n"
     ]
    }
   ],
   "source": [
    "for model, params in [ \n",
    "        (LogisticRegression, LR_hyperparams_list)\n",
    "]:\n",
    "    (score, pred, res) = run_basic(model, params, X_train, X_valid)"
   ]
  },
  {
   "cell_type": "code",
   "execution_count": 36,
   "metadata": {},
   "outputs": [
    {
     "name": "stdout",
     "output_type": "stream",
     "text": [
      "======= precision_score: 0.6946107784431138 =======\n",
      "======= recall_score: 0.16848220769789396 =======\n",
      "======= f1_score: 0.2711864406779661 =======\n",
      "======= accuracy_score: 0.9348961052521666 =======\n",
      "======= roc_auc_score: 0.8908640978533008 =======\n",
      "\n",
      "\n"
     ]
    },
    {
     "data": {
      "text/html": [
       "<div>\n",
       "<style scoped>\n",
       "    .dataframe tbody tr th:only-of-type {\n",
       "        vertical-align: middle;\n",
       "    }\n",
       "\n",
       "    .dataframe tbody tr th {\n",
       "        vertical-align: top;\n",
       "    }\n",
       "\n",
       "    .dataframe thead th {\n",
       "        text-align: right;\n",
       "    }\n",
       "</style>\n",
       "<table border=\"1\" class=\"dataframe\">\n",
       "  <thead>\n",
       "    <tr style=\"text-align: right;\">\n",
       "      <th></th>\n",
       "      <th>score</th>\n",
       "      <th>pred</th>\n",
       "    </tr>\n",
       "  </thead>\n",
       "  <tbody>\n",
       "    <tr>\n",
       "      <th>0</th>\n",
       "      <td>0.117659</td>\n",
       "      <td>0</td>\n",
       "    </tr>\n",
       "    <tr>\n",
       "      <th>1</th>\n",
       "      <td>0.011290</td>\n",
       "      <td>0</td>\n",
       "    </tr>\n",
       "    <tr>\n",
       "      <th>2</th>\n",
       "      <td>0.021243</td>\n",
       "      <td>0</td>\n",
       "    </tr>\n",
       "    <tr>\n",
       "      <th>3</th>\n",
       "      <td>0.010287</td>\n",
       "      <td>0</td>\n",
       "    </tr>\n",
       "    <tr>\n",
       "      <th>4</th>\n",
       "      <td>0.012446</td>\n",
       "      <td>0</td>\n",
       "    </tr>\n",
       "    <tr>\n",
       "      <th>...</th>\n",
       "      <td>...</td>\n",
       "      <td>...</td>\n",
       "    </tr>\n",
       "    <tr>\n",
       "      <th>4785</th>\n",
       "      <td>0.084856</td>\n",
       "      <td>0</td>\n",
       "    </tr>\n",
       "    <tr>\n",
       "      <th>4786</th>\n",
       "      <td>0.022218</td>\n",
       "      <td>0</td>\n",
       "    </tr>\n",
       "    <tr>\n",
       "      <th>4787</th>\n",
       "      <td>0.013455</td>\n",
       "      <td>0</td>\n",
       "    </tr>\n",
       "    <tr>\n",
       "      <th>4788</th>\n",
       "      <td>0.034203</td>\n",
       "      <td>0</td>\n",
       "    </tr>\n",
       "    <tr>\n",
       "      <th>4789</th>\n",
       "      <td>0.041349</td>\n",
       "      <td>0</td>\n",
       "    </tr>\n",
       "  </tbody>\n",
       "</table>\n",
       "<p>4790 rows × 2 columns</p>\n",
       "</div>"
      ],
      "text/plain": [
       "         score  pred\n",
       "0     0.117659     0\n",
       "1     0.011290     0\n",
       "2     0.021243     0\n",
       "3     0.010287     0\n",
       "4     0.012446     0\n",
       "...        ...   ...\n",
       "4785  0.084856     0\n",
       "4786  0.022218     0\n",
       "4787  0.013455     0\n",
       "4788  0.034203     0\n",
       "4789  0.041349     0\n",
       "\n",
       "[4790 rows x 2 columns]"
      ]
     },
     "execution_count": 36,
     "metadata": {},
     "output_type": "execute_result"
    }
   ],
   "source": [
    "for k, v in res.items():\n",
    "    print(f\"======= {k}: {v} =======\")\n",
    "\n",
    "\n",
    "print(\"\\n\")\n",
    "pd.DataFrame({\"score\": score, \"pred\": pred})"
   ]
  }
 ],
 "metadata": {
  "kernelspec": {
   "display_name": "Python 3.9.6 64-bit",
   "language": "python",
   "name": "python3"
  },
  "language_info": {
   "codemirror_mode": {
    "name": "ipython",
    "version": 3
   },
   "file_extension": ".py",
   "mimetype": "text/x-python",
   "name": "python",
   "nbconvert_exporter": "python",
   "pygments_lexer": "ipython3",
   "version": "3.9.6"
  },
  "orig_nbformat": 4,
  "vscode": {
   "interpreter": {
    "hash": "aee8b7b246df8f9039afb4144a1f6fd8d2ca17a180786b69acc140d282b71a49"
   }
  }
 },
 "nbformat": 4,
 "nbformat_minor": 2
}
