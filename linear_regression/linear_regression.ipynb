{
 "cells": [
  {
   "cell_type": "code",
   "execution_count": 1,
   "metadata": {},
   "outputs": [],
   "source": [
    "import scipy.stats as ss, pandas as pd, numpy as np\n",
    "\n",
    "from sklearn.linear_model import LinearRegression\n",
    "from sklearn.model_selection import train_test_split\n",
    "from sklearn.metrics import mean_squared_error"
   ]
  },
  {
   "cell_type": "code",
   "execution_count": 2,
   "metadata": {},
   "outputs": [],
   "source": [
    "y_train = pd.read_csv('Y_train.csv', index_col=0)\n",
    "y_valid = pd.read_csv('Y_valid.csv', index_col=0)\n",
    "y = np.asarray(pd.concat([y_train, y_valid])).flatten()\n",
    "\n",
    "x_train = pd.read_csv('X_train_cc.csv', index_col=0)\n",
    "x_valid = pd.read_csv('X_valid_cc.csv', index_col=0)\n",
    "X = pd.concat([x_train, x_valid])\n",
    "\n",
    "X_train, X_test, y_train, y_test = train_test_split(X, y, test_size=0.1)\n",
    "X_train = X_train.fillna(0)\n",
    "X_test = X_test.fillna(0)"
   ]
  },
  {
   "cell_type": "code",
   "execution_count": 8,
   "metadata": {},
   "outputs": [],
   "source": [
    "l = LinearRegression()\n",
    "\n",
    "l.fit(pd.concat((X_train, X_test)), np.concatenate((y_train, y_test)))\n",
    "predictions = l.predict(X_test)"
   ]
  },
  {
   "cell_type": "code",
   "execution_count": 9,
   "metadata": {},
   "outputs": [
    {
     "name": "stdout",
     "output_type": "stream",
     "text": [
      "============== score:  0.16169 ==============\n",
      "============== MSE:    3.08771 ==============\n"
     ]
    },
    {
     "data": {
      "text/html": [
       "<div>\n",
       "<style scoped>\n",
       "    .dataframe tbody tr th:only-of-type {\n",
       "        vertical-align: middle;\n",
       "    }\n",
       "\n",
       "    .dataframe tbody tr th {\n",
       "        vertical-align: top;\n",
       "    }\n",
       "\n",
       "    .dataframe thead th {\n",
       "        text-align: right;\n",
       "    }\n",
       "</style>\n",
       "<table border=\"1\" class=\"dataframe\">\n",
       "  <thead>\n",
       "    <tr style=\"text-align: right;\">\n",
       "      <th></th>\n",
       "      <th>Predicted</th>\n",
       "    </tr>\n",
       "    <tr>\n",
       "      <th>Id</th>\n",
       "      <th></th>\n",
       "    </tr>\n",
       "  </thead>\n",
       "  <tbody>\n",
       "    <tr>\n",
       "      <th>79423_165796_239937</th>\n",
       "      <td>2.580349</td>\n",
       "    </tr>\n",
       "    <tr>\n",
       "      <th>93365_172040_282054</th>\n",
       "      <td>2.562292</td>\n",
       "    </tr>\n",
       "    <tr>\n",
       "      <th>43453_177978_238442</th>\n",
       "      <td>2.662126</td>\n",
       "    </tr>\n",
       "    <tr>\n",
       "      <th>61569_114157_285042</th>\n",
       "      <td>2.466822</td>\n",
       "    </tr>\n",
       "    <tr>\n",
       "      <th>1092_196723_249889</th>\n",
       "      <td>4.251426</td>\n",
       "    </tr>\n",
       "    <tr>\n",
       "      <th>...</th>\n",
       "      <td>...</td>\n",
       "    </tr>\n",
       "    <tr>\n",
       "      <th>46093_139857_239609</th>\n",
       "      <td>2.979274</td>\n",
       "    </tr>\n",
       "    <tr>\n",
       "      <th>85350_189657_257786</th>\n",
       "      <td>3.275631</td>\n",
       "    </tr>\n",
       "    <tr>\n",
       "      <th>59917_140938_257863</th>\n",
       "      <td>2.579054</td>\n",
       "    </tr>\n",
       "    <tr>\n",
       "      <th>63431_176567_217091</th>\n",
       "      <td>3.245036</td>\n",
       "    </tr>\n",
       "    <tr>\n",
       "      <th>15012_175711_245067</th>\n",
       "      <td>2.497937</td>\n",
       "    </tr>\n",
       "  </tbody>\n",
       "</table>\n",
       "<p>1916 rows × 1 columns</p>\n",
       "</div>"
      ],
      "text/plain": [
       "                     Predicted\n",
       "Id                            \n",
       "79423_165796_239937   2.580349\n",
       "93365_172040_282054   2.562292\n",
       "43453_177978_238442   2.662126\n",
       "61569_114157_285042   2.466822\n",
       "1092_196723_249889    4.251426\n",
       "...                        ...\n",
       "46093_139857_239609   2.979274\n",
       "85350_189657_257786   3.275631\n",
       "59917_140938_257863   2.579054\n",
       "63431_176567_217091   3.245036\n",
       "15012_175711_245067   2.497937\n",
       "\n",
       "[1916 rows x 1 columns]"
      ]
     },
     "execution_count": 9,
     "metadata": {},
     "output_type": "execute_result"
    }
   ],
   "source": [
    "print(\"============== score: \", np.round(l.score(X_test, y_test), 5), \"==============\")\n",
    "print(\"============== MSE:   \", np.round(mean_squared_error(y_test, l.predict(X_test)), 5), \"==============\")\n",
    "\n",
    "pd.DataFrame({'Id': X_test.index, 'Predicted': predictions}).set_index('Id')"
   ]
  }
 ],
 "metadata": {
  "kernelspec": {
   "display_name": "Python 3.9.6 64-bit",
   "language": "python",
   "name": "python3"
  },
  "language_info": {
   "codemirror_mode": {
    "name": "ipython",
    "version": 3
   },
   "file_extension": ".py",
   "mimetype": "text/x-python",
   "name": "python",
   "nbconvert_exporter": "python",
   "pygments_lexer": "ipython3",
   "version": "3.9.6"
  },
  "orig_nbformat": 4,
  "vscode": {
   "interpreter": {
    "hash": "aee8b7b246df8f9039afb4144a1f6fd8d2ca17a180786b69acc140d282b71a49"
   }
  }
 },
 "nbformat": 4,
 "nbformat_minor": 2
}
